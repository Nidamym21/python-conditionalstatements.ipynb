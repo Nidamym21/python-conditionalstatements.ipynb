{
 "cells": [
  {
   "cell_type": "markdown",
   "id": "aeadae0f-5f29-4afa-9424-250248e8bd46",
   "metadata": {},
   "source": [
    "# Python Assignment:Conditional Statements\n",
    "\n",
    "- Conditional statements in Python are used to perform different actions based on certain conditions.\n",
    "- These statements help control the flow of a program by executing specific code blocks only when certain conditions are true or false.\n",
    "  \n",
    "## Types of Conditional Statements in Python\n",
    "\n",
    " ### if Statement:\n",
    "\n",
    "- Executes code if a condition is true."
   ]
  },
  {
   "cell_type": "code",
   "execution_count": 45,
   "id": "9e8f1542-5fc4-4447-9001-dcb6385ea639",
   "metadata": {},
   "outputs": [
    {
     "name": "stdout",
     "output_type": "stream",
     "text": [
      "Greater than 5\n"
     ]
    }
   ],
   "source": [
    "num = 10\n",
    "if num > 5:\n",
    "    print(\"Greater than 5\")\n"
   ]
  },
  {
   "cell_type": "markdown",
   "id": "dd4e925e-3b3d-4fe3-925c-472a68e0b22e",
   "metadata": {},
   "source": [
    "### else Statement :\n",
    "Executes code if false."
   ]
  },
  {
   "cell_type": "code",
   "execution_count": 46,
   "id": "cfee9647-0b30-414f-8834-4f7ab4068cdc",
   "metadata": {},
   "outputs": [
    {
     "name": "stdout",
     "output_type": "stream",
     "text": [
      "Not greater than 5\n"
     ]
    }
   ],
   "source": [
    "num = 3\n",
    "if num > 5:\n",
    "    print(\"Greater than 5\")\n",
    "else:\n",
    "    print(\"Not greater than 5\")\n"
   ]
  },
  {
   "cell_type": "markdown",
   "id": "36cd4234-61a5-483d-8c2d-393b338a797e",
   "metadata": {},
   "source": [
    "### elif Statement:\n",
    "Checks additional conditions."
   ]
  },
  {
   "cell_type": "code",
   "execution_count": 47,
   "id": "7368c207-5607-4be6-9ce1-6fa1d197c4e4",
   "metadata": {},
   "outputs": [
    {
     "name": "stdout",
     "output_type": "stream",
     "text": [
      "Equal to 5\n"
     ]
    }
   ],
   "source": [
    "num = 5\n",
    "if num > 10:\n",
    "    print(\"Greater than 10\")\n",
    "elif num == 5:\n",
    "    print(\"Equal to 5\")\n",
    "else:\n",
    "    print(\"Less than 5\")\n"
   ]
  },
  {
   "cell_type": "markdown",
   "id": "deb35c33-430b-41e4-9b09-06047a02fdda",
   "metadata": {},
   "source": [
    "### Another example:"
   ]
  },
  {
   "cell_type": "markdown",
   "id": "898caaee-1687-4a76-968d-1cc68579b5af",
   "metadata": {},
   "source": [
    "## Program to find whether the given character is Vowel or Consonent"
   ]
  },
  {
   "cell_type": "code",
   "execution_count": 22,
   "id": "c4488a0f-b8db-4ad6-ba3d-3d00d4a0fab4",
   "metadata": {},
   "outputs": [
    {
     "name": "stdin",
     "output_type": "stream",
     "text": [
      "Enter the Character: o\n",
      "Enter the Character: c\n"
     ]
    },
    {
     "name": "stdout",
     "output_type": "stream",
     "text": [
      "Given character is Consonent\n"
     ]
    }
   ],
   "source": [
    "#Program to find whether the given character is Vowel or Consonent\n",
    "Vowels = [ 'A', 'E', 'I', 'O', 'U','a', 'e', 'i', 'o', 'u']\n",
    "char = input(\"Enter the Character:\")\n",
    "char = input(\"Enter the Character:\")\n",
    "if char in Vowels:\n",
    "    print(\"Given character is Vowel\")\n",
    "else:\n",
    "    print(\"Given character is Consonent\")"
   ]
  },
  {
   "cell_type": "markdown",
   "id": "775a727f-f333-4226-9177-9ebc00d062ee",
   "metadata": {},
   "source": [
    "## 1. Write a program to find the largest of three numbers entered by the user."
   ]
  },
  {
   "cell_type": "code",
   "execution_count": 48,
   "id": "81714120-ec27-4a68-a128-1888719e033b",
   "metadata": {},
   "outputs": [
    {
     "name": "stdin",
     "output_type": "stream",
     "text": [
      "Enter first number: 50\n",
      "Enter second number: 90\n",
      "Enter third number: 60\n"
     ]
    },
    {
     "name": "stdout",
     "output_type": "stream",
     "text": [
      "largest = 90\n"
     ]
    }
   ],
   "source": [
    "a = int(input(\"Enter first number:\"))\n",
    "b = int(input(\"Enter second number:\"))\n",
    "c = int(input(\"Enter third number:\"))\n",
    "if (a >= b) and (a >= c):\n",
    "    print(\"largest =\", a)\n",
    "elif (b >= c) and (b >= a):\n",
    "    print(\"largest =\", b)\n",
    "else:\n",
    "    print(\"largest =\", c)"
   ]
  },
  {
   "cell_type": "markdown",
   "id": "8cd7e940-4d1d-4e43-9394-b9cbeba46b7c",
   "metadata": {},
   "source": [
    "## 2.Write a program to check if a number is divisible by both 5 and 11."
   ]
  },
  {
   "cell_type": "code",
   "execution_count": 16,
   "id": "25752ac5-5df8-4daa-b789-7135333f4828",
   "metadata": {},
   "outputs": [
    {
     "name": "stdin",
     "output_type": "stream",
     "text": [
      "enter the number 110\n"
     ]
    },
    {
     "name": "stdout",
     "output_type": "stream",
     "text": [
      "110 divisible by 5 and 11\n"
     ]
    }
   ],
   "source": [
    "a=int(input(\"enter the number\"))\n",
    "if a%5==0 and a%11==0:\n",
    "  print(a,\"divisible by 5 and 11\")\n",
    "else:\n",
    "  print(a,\"is not divisible by 5 and 11\")"
   ]
  },
  {
   "cell_type": "markdown",
   "id": "35d66edf-dd77-448d-9358-878f32951234",
   "metadata": {},
   "source": [
    "\n",
    "## 3.Write a Python program to check whether the input character is an alphabet, digit, or special character."
   ]
  },
  {
   "cell_type": "code",
   "execution_count": 55,
   "id": "68c09396-fd7f-4e4e-81ad-5e921e313fa3",
   "metadata": {},
   "outputs": [
    {
     "name": "stdin",
     "output_type": "stream",
     "text": [
      "enter the character *\n"
     ]
    },
    {
     "name": "stdout",
     "output_type": "stream",
     "text": [
      "x is special character\n"
     ]
    }
   ],
   "source": [
    "x=input(\"enter the character\")\n",
    "if x.isalpha():\n",
    "  print(\"x is alphabet\")\n",
    "elif not x.isalnum() and not x.isspace():\n",
    "  print(\"x is special character\")\n",
    "else:\n",
    "  pass  \n",
    "  print(\"x is digits\")"
   ]
  },
  {
   "cell_type": "markdown",
   "id": "2cc1098b-82f0-4ae0-9de6-2406ba0ff92b",
   "metadata": {},
   "source": [
    "## 4.Write a Python program to check if three sides can form a valid triangle."
   ]
  },
  {
   "cell_type": "code",
   "execution_count": 23,
   "id": "40ff85b2-d314-4fc4-a232-414c0de87794",
   "metadata": {},
   "outputs": [
    {
     "name": "stdin",
     "output_type": "stream",
     "text": [
      " 10\n",
      " 10\n",
      " 10\n"
     ]
    },
    {
     "name": "stdout",
     "output_type": "stream",
     "text": [
      "it is a triangle\n"
     ]
    }
   ],
   "source": [
    "a = int(input())\n",
    "b =int(input())\n",
    "c = int(input())\n",
    "if a+b>c and a+c>b and b+c>a:\n",
    "    print(\"it is a triangle\")\n",
    "else:\n",
    "    print(\"it is not a triangle\")"
   ]
  },
  {
   "cell_type": "markdown",
   "id": "e12989d3-016a-4595-8d21-7905d6d81368",
   "metadata": {},
   "source": [
    "## 5. Write a Python program to find the absolute value of a number."
   ]
  },
  {
   "cell_type": "code",
   "execution_count": 25,
   "id": "63b2c76f-2844-4c7a-96a8-a42f08a77937",
   "metadata": {},
   "outputs": [
    {
     "name": "stdin",
     "output_type": "stream",
     "text": [
      " -5\n"
     ]
    },
    {
     "name": "stdout",
     "output_type": "stream",
     "text": [
      "5\n"
     ]
    }
   ],
   "source": [
    "num=int(input())\n",
    "if num>=0:\n",
    "    print(num)\n",
    "else:\n",
    "    print(num *-1)\n",
    "     "
   ]
  },
  {
   "cell_type": "markdown",
   "id": "7d2ddd38-d9d0-47a6-b32f-b9199b34a84c",
   "metadata": {},
   "source": [
    "## 6. Write a program to determine whether a given year is a century year or not."
   ]
  },
  {
   "cell_type": "code",
   "execution_count": 26,
   "id": "421f7636-af76-4f60-8046-a6d47c59899c",
   "metadata": {},
   "outputs": [
    {
     "name": "stdin",
     "output_type": "stream",
     "text": [
      "Enter the year: 2000\n"
     ]
    },
    {
     "name": "stdout",
     "output_type": "stream",
     "text": [
      "century year\n"
     ]
    }
   ],
   "source": [
    "year =int(input(\"Enter the year:\"))\n",
    "if year%100==0:\n",
    "    print(\"century year\")\n",
    "else:\n",
    "    print(\"not century year\")"
   ]
  },
  {
   "cell_type": "markdown",
   "id": "591d9bf7-0aaa-4e6b-9cc9-04eca47adf0d",
   "metadata": {},
   "source": [
    "## 7.Write a Python program to determine whether a person’s BMI (Body Mass Index) falls under underweight, normal weight, overweight, or obese categories."
   ]
  },
  {
   "cell_type": "code",
   "execution_count": 34,
   "id": "f0ee9849-8b14-4daf-a074-5dba22e9817a",
   "metadata": {},
   "outputs": [
    {
     "name": "stdin",
     "output_type": "stream",
     "text": [
      " 50\n",
      " 20\n"
     ]
    },
    {
     "name": "stdout",
     "output_type": "stream",
     "text": [
      "1249.9999999999998\n",
      "normal weight\n"
     ]
    }
   ],
   "source": [
    "\n",
    "weight= int(input())\n",
    "height = int(input())\n",
    "BMI = weight/((height/100)**2)\n",
    "print(BMI)\n",
    "if BMI<18:\n",
    "    print(\"underweight\")\n",
    "elif 18<= BMI>40:\n",
    "    print(\"normal weight\")\n",
    "elif 25<= BMI >60:\n",
    "    print(\"overweight\")\n",
    "else:\n",
    "    print(\"obse categotries\")"
   ]
  },
  {
   "cell_type": "markdown",
   "id": "c9d935e0-b74b-43e4-81d4-2484f2db9de5",
   "metadata": {},
   "source": [
    "## 8.Write a Python program to check if a given character is an uppercase or lowercase letter."
   ]
  },
  {
   "cell_type": "code",
   "execution_count": 35,
   "id": "3ac0d35e-7b87-4b8c-9324-df9b79b488e1",
   "metadata": {},
   "outputs": [
    {
     "name": "stdin",
     "output_type": "stream",
     "text": [
      "enter a character: x\n"
     ]
    },
    {
     "name": "stdout",
     "output_type": "stream",
     "text": [
      "This character is a lowercase\n"
     ]
    }
   ],
   "source": [
    "char = input(\"enter a character:\")\n",
    "if char.islower():\n",
    "    print(\"This character is a lowercase\")\n",
    "else:\n",
    "    print(\"This character is a uppercase\")"
   ]
  },
  {
   "cell_type": "markdown",
   "id": "67c59913-bf59-48e6-a443-8dac5409b0f3",
   "metadata": {},
   "source": [
    "## 9.Write a program to classify a number as small, medium, or large based on given thresholds."
   ]
  },
  {
   "cell_type": "code",
   "execution_count": 37,
   "id": "ef18c19e-497f-4ec9-88e1-24a9007deae0",
   "metadata": {},
   "outputs": [
    {
     "name": "stdin",
     "output_type": "stream",
     "text": [
      " 20\n"
     ]
    },
    {
     "name": "stdout",
     "output_type": "stream",
     "text": [
      "large\n"
     ]
    }
   ],
   "source": [
    "threshold=10\n",
    "num=int(input())\n",
    "if num>=threshold:\n",
    "    print(\"large\")\n",
    "elif num<=threshold:\n",
    "    print(\"medium\")\n",
    "else:\n",
    "    print(\"small\")"
   ]
  },
  {
   "cell_type": "markdown",
   "id": "b6c89df2-b3e7-40e3-a064-3ffbbb51ee02",
   "metadata": {},
   "source": [
    "## 10.Write a Python program to determine the type of triangle based on the lengths of its sides (equilateral, isosceles, or scalene"
   ]
  },
  {
   "cell_type": "code",
   "execution_count": 38,
   "id": "dd395b41-c361-47e8-8155-35dfa81813a9",
   "metadata": {},
   "outputs": [
    {
     "name": "stdin",
     "output_type": "stream",
     "text": [
      " 20\n",
      " 20\n",
      " 10\n"
     ]
    },
    {
     "name": "stdout",
     "output_type": "stream",
     "text": [
      "isosceles\n"
     ]
    }
   ],
   "source": [
    "A = input()\n",
    "B = input()\n",
    "C = input()\n",
    "if A == B == C:\n",
    "    print(\"eqilateral\")\n",
    "elif A==B or B==C or A==C:\n",
    "    print(\"isosceles\")\n",
    "else:\n",
    "    print(\"scalene\")"
   ]
  },
  {
   "cell_type": "markdown",
   "id": "0296ee1a-9a2d-44ae-8b8b-708a81a55e05",
   "metadata": {},
   "source": [
    "## 11. Write a Python program to check if a number is a palindrome."
   ]
  },
  {
   "cell_type": "code",
   "execution_count": 42,
   "id": "03994f7a-0286-412e-b857-d92b4827ce0d",
   "metadata": {},
   "outputs": [
    {
     "name": "stdin",
     "output_type": "stream",
     "text": [
      "Enter Value: 121\n"
     ]
    },
    {
     "name": "stdout",
     "output_type": "stream",
     "text": [
      "It's a Palindrome 121\n"
     ]
    }
   ],
   "source": [
    "word = input(\"Enter Value:\")\n",
    "\n",
    "if word == word[::-1]:\n",
    "    print(\"It's a Palindrome\", word)\n",
    "else:\n",
    "    print(\"It's not a Palindrome\", word)"
   ]
  },
  {
   "cell_type": "markdown",
   "id": "87bcf792-524f-464a-9b79-1a0e231fe6c5",
   "metadata": {},
   "source": [
    "## 12.Write a program to determine if a given angle is acute, right, or obtuse."
   ]
  },
  {
   "cell_type": "code",
   "execution_count": 43,
   "id": "b2218061-262c-4282-b40a-d6dea11bbcf8",
   "metadata": {},
   "outputs": [
    {
     "name": "stdin",
     "output_type": "stream",
     "text": [
      " 70\n"
     ]
    },
    {
     "name": "stdout",
     "output_type": "stream",
     "text": [
      "acute\n"
     ]
    }
   ],
   "source": [
    "angle = int(input())\n",
    "if angle>90:\n",
    "    print(\"obtuse\")\n",
    "elif angle<90:\n",
    "    print(\"acute\")\n",
    "else:\n",
    "    print(\"Right\")"
   ]
  },
  {
   "cell_type": "markdown",
   "id": "cc245e4c-3847-4efa-8c61-9c11a1fcf925",
   "metadata": {},
   "source": [
    "## 13.Write a Python program to check whether the sum of two numbers is equal to a third number provided by the user"
   ]
  },
  {
   "cell_type": "code",
   "execution_count": 44,
   "id": "86b4087e-124f-46ba-a392-aa8ffedca93b",
   "metadata": {},
   "outputs": [
    {
     "name": "stdin",
     "output_type": "stream",
     "text": [
      "Enter the first number: 5\n",
      "Enter the second number: 15\n",
      "Enter the thrid number: 20\n"
     ]
    },
    {
     "name": "stdout",
     "output_type": "stream",
     "text": [
      "equal\n"
     ]
    }
   ],
   "source": [
    "a =int(input(\"Enter the first number:\"))\n",
    "b = int(input(\"Enter the second number:\"))\n",
    "c = int(input(\"Enter the thrid number:\"))\n",
    "if a + b = c:\n",
    "    print(\"equal\")\n",
    "else:\n",
    "    print(\"not equal\")"
   ]
  },
  {
   "cell_type": "code",
   "execution_count": null,
   "id": "56639c09-888f-4403-80e1-2152e7221bdc",
   "metadata": {},
   "outputs": [],
   "source": []
  }
 ],
 "metadata": {
  "kernelspec": {
   "display_name": "Python 3 (ipykernel)",
   "language": "python",
   "name": "python3"
  },
  "language_info": {
   "codemirror_mode": {
    "name": "ipython",
    "version": 3
   },
   "file_extension": ".py",
   "mimetype": "text/x-python",
   "name": "python",
   "nbconvert_exporter": "python",
   "pygments_lexer": "ipython3",
   "version": "3.12.4"
  }
 },
 "nbformat": 4,
 "nbformat_minor": 5
}
